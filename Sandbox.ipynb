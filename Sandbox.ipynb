{
 "cells": [
  {
   "cell_type": "code",
   "execution_count": 5,
   "metadata": {},
   "outputs": [],
   "source": [
    "# import sqlite3\n",
    "# import requests\n",
    "# import re\n",
    "# import time\n",
    "# import random\n",
    "# from datetime import datetime\n",
    "# from watchdog import perekrestok_finder\n",
    "import operations\n",
    "import logging\n",
    "\n",
    "from config import DB_ADDRESS_OPERATIONS\n",
    "\n",
    "\n",
    "logging.basicConfig(filename='operations.log', format='%(asctime)s %(levelname)s:%(message)s', level=logging.DEBUG)"
   ]
  },
  {
   "cell_type": "code",
   "execution_count": 3,
   "metadata": {},
   "outputs": [
    {
     "data": {
      "text/plain": [
       "'/home/alexey/Experiments/fisherman/fisherman_debug.db'"
      ]
     },
     "execution_count": 3,
     "metadata": {},
     "output_type": "execute_result"
    }
   ],
   "source": [
    "DB_ADDRESS_OPERATIONS"
   ]
  },
  {
   "cell_type": "markdown",
   "metadata": {},
   "source": [
    "## Basic operations"
   ]
  },
  {
   "cell_type": "markdown",
   "metadata": {},
   "source": [
    "This is a notebook for testing of basic `operations` functions."
   ]
  },
  {
   "cell_type": "markdown",
   "metadata": {},
   "source": [
    "### Get database"
   ]
  },
  {
   "cell_type": "code",
   "execution_count": 4,
   "metadata": {
    "scrolled": true
   },
   "outputs": [
    {
     "data": {
      "text/plain": [
       "[{'id': 2, 'name': 'Сыр мягкий Burenka Club Сербский сливочный 60%, 150г'},\n",
       " {'id': 3, 'name': 'Сыр полутвёрдый Брест-Литовск Классический 45%, 200г'},\n",
       " {'id': 4, 'name': 'Сыр Arla Natura Сливочный 45%, 400г'},\n",
       " {'id': 5, 'name': 'Сыр Arla Natura Сливочный лёгкий 16%, 400г'},\n",
       " {'id': 6, 'name': 'Сыр Ламбер Традиционный 50%, 230г'},\n",
       " {'id': 7, 'name': 'Сыр полутвёрдый Частная Сыроварня Гауда 50%, 260г'},\n",
       " {'id': 8, 'name': 'Сыр Сваля Тильзитер 45%'},\n",
       " {'id': 9, 'name': 'Сыр полутвёрдый Брест-Литовск Российский 50%, 200г'},\n",
       " {'id': 10, 'name': 'Сыр Брест-Литовск Сливочный 50%, 200г'},\n",
       " {'id': 11, 'name': 'Сыр полутвёрдый Брест-Литовск Финский 45%, 200г'},\n",
       " {'id': 12, 'name': 'Сыр Брест-Литовск Лёгкий брусок 35%, 200г'},\n",
       " {'id': 13, 'name': 'Сыр Cheese Gallery Чеддер красный 50%, 200г'},\n",
       " {'id': 14, 'name': 'Сыр полутвёрдый Частная Сыроварня Чеддер 50%, 260г'},\n",
       " {'id': 15, 'name': 'Сыр плавленый President 45%, 400г'},\n",
       " {'id': 16, 'name': 'Сыр плавленый Viola Сливочный 50%, 400г'},\n",
       " {'id': 17, 'name': 'Сыр творожный Hochland Сливочный 60%, 140г'},\n",
       " {'id': 18, 'name': 'Сыр творожный Hochland Сливочный 60%, 220г'},\n",
       " {'id': 19, 'name': 'Сыр творожный Almette Сливочный 60%, 150г'},\n",
       " {'id': 20, 'name': 'Сыр творожный Valio Сливочный 70%, 150г'},\n",
       " {'id': 21, 'name': 'Творог Свитлогорье 2%, 180г'},\n",
       " {'id': 22, 'name': 'Творог Пискаревский 5%, 250г'},\n",
       " {'id': 23, 'name': 'Творог Простоквашино 9%, 180г'},\n",
       " {'id': 24, 'name': 'Творог Свитлогорье 9%, 180г'},\n",
       " {'id': 25, 'name': 'Творог Свитлогорье мягкий 4%, 400г'},\n",
       " {'id': 26,\n",
       "  'name': 'Сырок А.Ростагрокомплекс творожный глазированный в молочном шоколаде со сгущенкой 26%, 50г'},\n",
       " {'id': 27,\n",
       "  'name': 'Сырок творожный Свитлогорье с ванилином глазированный 26%, 50г'},\n",
       " {'id': 28,\n",
       "  'name': 'Сырок А.Ростагрокомплекс творожный глазированный в темном шоколаде с ванилью 26%, 50г'},\n",
       " {'id': 29,\n",
       "  'name': 'Творожные палочки Свитлогорье ванильные глазированные 23%, 180г'},\n",
       " {'id': 30, 'name': 'Йогурт фруктовый Чудо Вишня-Черешня 2.5%, 290г'},\n",
       " {'id': 31, 'name': 'Йогурт Teos Греческий 2%, 140г'},\n",
       " {'id': 32,\n",
       "  'name': 'Йогурт Даниссимо Фантазия с хрустящими шоколадными шариками 6.9%, 105г'},\n",
       " {'id': 33, 'name': 'Йогурт Epica ананас 4.8%, 130г'},\n",
       " {'id': 34, 'name': 'Йогурт Epica с гранатом и малиной 4.8%, 130г'},\n",
       " {'id': 35,\n",
       "  'name': 'Йогурт Epica Bouquet с голубикой и экстрактом лаванды 4.8%, 130г'},\n",
       " {'id': 36, 'name': 'Йогурт Epica Bouquet клубника-роза 4.8%, 130г'},\n",
       " {'id': 37,\n",
       "  'name': 'Биойогурт Слобода мюсли с яблоко мандарин и орехи обогащенный лактобактериями 5%, 130г'},\n",
       " {'id': 38,\n",
       "  'name': 'Йогурт Valio Laplandia Сливочный Черничный Маффин с наполнителем 7.2%, 180г'},\n",
       " {'id': 39, 'name': 'Йогурт Epica малина-лимон 4.8%, 190г'},\n",
       " {'id': 40, 'name': 'Йогурт Снежок питьевой груша-яблоко 1.5%, 900г'},\n",
       " {'id': 41,\n",
       "  'name': 'Продукт творожный Даниссимо с хрустящими шоколадными шариками 7.2%, 130г'},\n",
       " {'id': 42,\n",
       "  'name': 'Йогурт Чудо Десерт хрустящий шоколадный соблазн 3%, 105г'},\n",
       " {'id': 43, 'name': 'Яйцо куриное Оредеж Ешь хорошее столовое С1, 10шт'},\n",
       " {'id': 44, 'name': 'Яйцо куриное Синявинская ПФ К завтраку С1, 10шт'},\n",
       " {'id': 45, 'name': 'Яйцо куриное Роскар Деревенское С1, 10шт'},\n",
       " {'id': 46, 'name': 'Яйцо куриное Синявинское Эффект с селеном C1, 10шт'},\n",
       " {'id': 47, 'name': 'Яйцо куриное Волжанин Подари жизнь C1, 10шт'},\n",
       " {'id': 48, 'name': 'Томаты черри на ветке, 250г'},\n",
       " {'id': 49, 'name': 'Томаты черри красные, 250г'},\n",
       " {'id': 50, 'name': 'Томаты Черри Медовые оранжевые круглые, 200г'},\n",
       " {'id': 51, 'name': 'Томаты черри красные Шейкер, 250г'},\n",
       " {'id': 52, 'name': 'Томаты Конфетто черри, 250г'},\n",
       " {'id': 53, 'name': 'Бананы'},\n",
       " {'id': 54, 'name': 'Спелый плод манго, 1шт'},\n",
       " {'id': 55, 'name': 'Нектарины'},\n",
       " {'id': 56, 'name': 'Лапша Sen Soy Premium Soba гречневая, 300г'},\n",
       " {'id': 57, 'name': 'Вермишель Sen Soy Premium фунчоза, 200г'},\n",
       " {'id': 58,\n",
       "  'name': 'Макаронные изделия Barilla Spaghettini n.3 из твёрдых сортов пшеницы, 450г'},\n",
       " {'id': 59,\n",
       "  'name': 'Макаронные изделия Barilla Capellini n.1 из твёрдых сортов пшеницы, 450г'},\n",
       " {'id': 60,\n",
       "  'name': 'Макаронные изделия Barilla Penne Rigate n.73 из твёрдых сортов пшеницы, 450г'},\n",
       " {'id': 61,\n",
       "  'name': 'Макаронные изделия Barilla Farfalle n.65 из твёрдых сортов пшеницы, 400г'},\n",
       " {'id': 62, 'name': 'Крекер Tuc Cheezzz с сыром, 100г'},\n",
       " {'id': 63, 'name': 'Печенье Leibniz Cocoa Biscuit, 200г'},\n",
       " {'id': 64, 'name': 'Печенье апельсиновое сдобное Bonte Bakery, 137г'},\n",
       " {'id': 65, 'name': 'Печенье Lotte Choco Pie прослоёное глазированное, 336г'},\n",
       " {'id': 66, 'name': 'Вафли Яшкино Шоколадные, 300г'},\n",
       " {'id': 67, 'name': 'Вафли Яшкино глазированные с орешками, 200г'},\n",
       " {'id': 68, 'name': 'Шоколад молочный Ritter Sport ром-изюм-орехи, 100г'},\n",
       " {'id': 69, 'name': 'Шоколад молочный Milka с цельным фундуком, 85г'},\n",
       " {'id': 70,\n",
       "  'name': 'Шоколад тёмный Ritter Sport с цельным лесным орехом, 100г'},\n",
       " {'id': 71,\n",
       "  'name': 'Шоколад тёмный Lindt Excellence с кусочками апельсина и миндаля, 100г'},\n",
       " {'id': 72, 'name': 'Шоколад тёмный Lindt Excellence со вкусом мяты, 100г'},\n",
       " {'id': 73,\n",
       "  'name': 'Шоколад тёмный Ritter Sport с утонченным вкусом из Никарагуа 61%, 100г'},\n",
       " {'id': 74, 'name': 'Шоколад горький Lindt Excellence 85%, 100г'},\n",
       " {'id': 75,\n",
       "  'name': 'Печенье сахарное Twix с карамелью покрытое молочным шоколадом, 3х55г'},\n",
       " {'id': 76, 'name': 'Батончик шоколадный Picnic Big, 76г'},\n",
       " {'id': 77, 'name': 'Шоколад молочный KitKat с хрустящей вафлей, 145г'},\n",
       " {'id': 78, 'name': 'Ореховая паста Nutella фундук и какао, 630г'},\n",
       " {'id': 79, 'name': 'Конфеты КФ Крупской Сказки Перро'},\n",
       " {'id': 80,\n",
       "  'name': 'Пастила Белевская Пастильная Мануфактура без сахара классическая, 100г'},\n",
       " {'id': 81, 'name': 'Пастила Шармэль Клюквенная, 221г'},\n",
       " {'id': 82, 'name': 'Сухарики Хрусteam Багет Томат-Зелень, 60г'},\n",
       " {'id': 83, 'name': 'Сухарики Хрусteam Багет Сырное ассорти, 60г'},\n",
       " {'id': 84, 'name': 'Крендели Saltletts Классические с солью, 150г'},\n",
       " {'id': 85, 'name': 'Напиток Evervess Индиан Тоник сильногазированный, 1л'},\n",
       " {'id': 86, 'name': 'Напиток газированный Волчок грейпфрут-гибискус, 450мл'},\n",
       " {'id': 87, 'name': 'Напиток газированный Schweppes Тоник, 900мл'},\n",
       " {'id': 88, 'name': 'Напиток газированный Schweppes Spritz Aperitivo, 900мл'},\n",
       " {'id': 89, 'name': 'Сок J7 Апельсиновый с мякотью, 970мл'},\n",
       " {'id': 90, 'name': 'Сок Я Грейпфрут с мякотью, 970мл'},\n",
       " {'id': 91, 'name': 'Сок Rich апельсиновый, 1л'},\n",
       " {'id': 92, 'name': 'Сок Rich ананасовый, 1л'},\n",
       " {'id': 93, 'name': 'Нектар Rich вишнёвый, 1л'},\n",
       " {'id': 94, 'name': 'Сок Rich мультифруктовый, 1л'},\n",
       " {'id': 95,\n",
       "  'name': 'Напиток пивной Hoegaarden безалкогольный светлый нефильтрованный, 330мл'},\n",
       " {'id': 96, 'name': 'Филе куриное Перекрёсток'},\n",
       " {'id': 97, 'name': 'Колбаса варёная Вязанка Молочная стародворская, 500г'},\n",
       " {'id': 98, 'name': 'Колбаса варёная Папа Может Мясная, 500г'},\n",
       " {'id': 99, 'name': 'Лопаточная часть говяжья Перекрёсток без кости'},\n",
       " {'id': 100, 'name': 'Окорок свиной без кости Перекрёсток'},\n",
       " {'id': 101, 'name': 'Свинина духовая без кости Перекрёсток'},\n",
       " {'id': 102, 'name': 'Корейка свиная без кости Перекрёсток'},\n",
       " {'id': 103, 'name': 'Тунец Fortuna полосатый рубленый, 185г'},\n",
       " {'id': 104, 'name': 'Тунец скипджек филе-кусок Новый Океан, 185г'},\n",
       " {'id': 105,\n",
       "  'name': 'Смесь овощная Мексиканская быстрозамороженная Маркет Перекрёсток, 400г'},\n",
       " {'id': 106,\n",
       "  'name': 'Смесь овощная Морозко Green Мексиканская быстрозамороженная, 400г'},\n",
       " {'id': 107,\n",
       "  'name': 'Смесь овощная 4 Сезона Гавайская быстрозамороженная, 400г'},\n",
       " {'id': 108, 'name': 'Соус Barilla Basilico томатный с базиликом, 400г'},\n",
       " {'id': 109, 'name': 'Соус Barilla Pesto alla Genovese с базиликом, 190г'},\n",
       " {'id': 110, 'name': 'Соус Heinz кисло-сладкий деликатесный, 230мл'},\n",
       " {'id': 111, 'name': 'Соус Sen Soy кисло-сладкий, 120г'},\n",
       " {'id': 112, 'name': 'Соус Heinz барбекю, 230мл'},\n",
       " {'id': 113, 'name': 'Кетчуп Heinz Итальянский первая категория, 320г'},\n",
       " {'id': 114, 'name': 'Кетчуп Heinz для гриля и шашлыка, 320г'},\n",
       " {'id': 115, 'name': 'Кетчуп Heinz томатный, 320г'},\n",
       " {'id': 116, 'name': 'Томатная паста Кухмастер, 270г'},\n",
       " {'id': 117, 'name': 'Кофе Paulig Cafe New York молотый, 200г'},\n",
       " {'id': 118, 'name': 'Кофе Lavazza Espresso в зёрнах, 250г'},\n",
       " {'id': 119, 'name': 'Кофе Lavazza Qualita Rossa молотый, 250г'},\n",
       " {'id': 120, 'name': 'Кофе Lavazza Qualita Oro молотый, 250г'},\n",
       " {'id': 121, 'name': 'Кофе Lavazza Qualita Oro в зёрнах, 250г'},\n",
       " {'id': 122,\n",
       "  'name': 'Чай Greenfield Грин мелисса зелёный в пакетиках, 25х1.5г'},\n",
       " {'id': 123,\n",
       "  'name': 'Чай Greenfield Spring Melody чёрный в пакетиках, 25х1.5г'},\n",
       " {'id': 124,\n",
       "  'name': 'Чай Greenfield Jasmine Dream зелёный в пакетиках, 25х2г'},\n",
       " {'id': 125,\n",
       "  'name': 'Чай Greenfield Camomile Meadow травяной в пакетиках, 25х1.5г'},\n",
       " {'id': 126,\n",
       "  'name': 'Чай Greenfield Christmas mystery чёрный в пакетиках, 25х1.5г'},\n",
       " {'id': 127,\n",
       "  'name': 'Напиток чайный Greenfield Берри сансет фруктовый лесные ягоды в пакетиках, 25х2г'},\n",
       " {'id': 128,\n",
       "  'name': 'Напиток чайный Greenfield Черри блоссом фруктовый с ароматом вишни в пакетиках, 25х2г'},\n",
       " {'id': 129,\n",
       "  'name': 'Какао-напиток Nesquik быстрорастворимый обогащённый в банке, 500г'},\n",
       " {'id': 130, 'name': 'Завтрак готовый Nesquik шоколадный, 700г'},\n",
       " {'id': 131, 'name': 'Мюсли Ого с орехом запечённые, 350г'},\n",
       " {'id': 132, 'name': 'Мюсли Matti ежевика-малина, 250г'},\n",
       " {'id': 133, 'name': 'Мюсли Ого с яблоком запечённые, 350г'},\n",
       " {'id': 134, 'name': 'Мюсли Ого ягодные классические, 400г'},\n",
       " {'id': 135, 'name': 'Мюсли Matti орех-яблоко, 250г'},\n",
       " {'id': 136,\n",
       "  'name': 'Лапша Чан Рамен Корейская быстрого приготовления с приправами, 120г'},\n",
       " {'id': 137, 'name': 'Пюре Картошечка картофельное, 250г'},\n",
       " {'id': 138, 'name': 'Горошек Bonduelle Classique зелёный, 400г'},\n",
       " {'id': 139, 'name': 'Горошек Globus зелёный, 400г'},\n",
       " {'id': 140, 'name': 'Кукуруза Globus сладкая, 340г'},\n",
       " {'id': 141, 'name': 'Кукуруза Bonduelle Classique сладкая, 340г'},\n",
       " {'id': 142, 'name': 'Огурцы 6 соток маринованные хрустящие, 680г'},\n",
       " {'id': 143, 'name': 'Корнишоны целые маринованные Маркет Перекрёсток, 540г'},\n",
       " {'id': 144, 'name': 'Фасоль белая Bonduelle Expert в томатном соусе, 400г'},\n",
       " {'id': 145, 'name': 'Фасоль Heinz в томатном соусе, 415г'},\n",
       " {'id': 146,\n",
       "  'name': 'Сидр Василеостровская Пивоварня Rose игристый 4.7%, 750мл'},\n",
       " {'id': 147, 'name': 'Сидр Louis Raison Original Crisp яблочный, 0.75л'},\n",
       " {'id': 148, 'name': 'Пиво Leffe Бруне тёмное 6.5%, 500мл'},\n",
       " {'id': 149,\n",
       "  'name': 'Напиток пивной Волковская Пивоварня Chocolate Stout тёмный нефильтрованный 6,5%, 450мл'},\n",
       " {'id': 150, 'name': 'Напиток пивной Double Chocolate Стаут 5.2%, 440мл'},\n",
       " {'id': 151,\n",
       "  'name': 'Пиво Troll Brew Imperial Stout тёмное фильтрованное, 330мл'},\n",
       " {'id': 152,\n",
       "  'name': 'Напиток пивной Gorkovskaya Brewery Hazelnut Porter Imagine The Future нефильтрованный 7%, 440мл'},\n",
       " {'id': 153, 'name': 'Пиво Belhaven Скоттиш стаут тёмное 7%, 500мл'},\n",
       " {'id': 154, 'name': 'Сыр мягкий Arla Natura сливочный натуральный 60%, 150г'}]"
      ]
     },
     "execution_count": 4,
     "metadata": {},
     "output_type": "execute_result"
    }
   ],
   "source": [
    "operations.get_list_of_items_on_watch('root')"
   ]
  },
  {
   "cell_type": "code",
   "execution_count": 5,
   "metadata": {},
   "outputs": [
    {
     "data": {
      "text/plain": [
       "[]"
      ]
     },
     "execution_count": 5,
     "metadata": {},
     "output_type": "execute_result"
    }
   ],
   "source": [
    "operations.get_list_of_items_on_watch('new_user')"
   ]
  },
  {
   "cell_type": "markdown",
   "metadata": {},
   "source": [
    "### Get profits"
   ]
  },
  {
   "cell_type": "code",
   "execution_count": 6,
   "metadata": {
    "scrolled": true
   },
   "outputs": [
    {
     "data": {
      "text/plain": [
       "[]"
      ]
     },
     "execution_count": 6,
     "metadata": {},
     "output_type": "execute_result"
    }
   ],
   "source": [
    "operations.get_list_of_profits_for_user('root')"
   ]
  },
  {
   "cell_type": "code",
   "execution_count": 7,
   "metadata": {},
   "outputs": [
    {
     "data": {
      "text/plain": [
       "[]"
      ]
     },
     "execution_count": 7,
     "metadata": {},
     "output_type": "execute_result"
    }
   ],
   "source": [
    "operations.get_list_of_profits_for_user('new_user')"
   ]
  },
  {
   "cell_type": "markdown",
   "metadata": {},
   "source": [
    "### Delete item"
   ]
  },
  {
   "cell_type": "code",
   "execution_count": 8,
   "metadata": {},
   "outputs": [
    {
     "name": "stdout",
     "output_type": "stream",
     "text": [
      "{'id': 153, 'name': 'Пиво Belhaven Скоттиш стаут тёмное 7%, 500мл'}\n",
      "{'id': 154, 'name': 'Сыр мягкий Arla Natura сливочный натуральный 60%, 150г'}\n",
      "\n",
      "Removed\n",
      "\n",
      "{'id': 152, 'name': 'Напиток пивной Gorkovskaya Brewery Hazelnut Porter Imagine The Future нефильтрованный 7%, 440мл'}\n",
      "{'id': 153, 'name': 'Пиво Belhaven Скоттиш стаут тёмное 7%, 500мл'}\n"
     ]
    }
   ],
   "source": [
    "# delete id for user\n",
    "print(*operations.get_list_of_items_on_watch('root')[-2:], sep='\\n')\n",
    "print()\n",
    "\n",
    "print(operations.remove_item_from_watch('154', 'root'))\n",
    "\n",
    "print()\n",
    "print(*operations.get_list_of_items_on_watch('root')[-2:], sep='\\n')"
   ]
  },
  {
   "cell_type": "code",
   "execution_count": 9,
   "metadata": {},
   "outputs": [
    {
     "data": {
      "text/plain": [
       "'Not_in_list'"
      ]
     },
     "execution_count": 9,
     "metadata": {},
     "output_type": "execute_result"
    }
   ],
   "source": [
    "# delete already removed id\n",
    "operations.remove_item_from_watch('154', 'root')"
   ]
  },
  {
   "cell_type": "code",
   "execution_count": 10,
   "metadata": {},
   "outputs": [
    {
     "data": {
      "text/plain": [
       "'Not_in_list'"
      ]
     },
     "execution_count": 10,
     "metadata": {},
     "output_type": "execute_result"
    }
   ],
   "source": [
    "# delete id not from user list\n",
    "operations.remove_item_from_watch('152', 'new_user')"
   ]
  },
  {
   "cell_type": "markdown",
   "metadata": {},
   "source": [
    "### Add item"
   ]
  },
  {
   "cell_type": "code",
   "execution_count": 11,
   "metadata": {},
   "outputs": [
    {
     "data": {
      "text/plain": [
       "'Added'"
      ]
     },
     "execution_count": 11,
     "metadata": {},
     "output_type": "execute_result"
    }
   ],
   "source": [
    "# new item\n",
    "operations.add_item_to_database(\n",
    "    'https://www.perekrestok.ru/cat/371/p/syr-magkij-arla-natura-slivocnyj-naturalnyj-60-150g-3980863',\n",
    "'root')"
   ]
  },
  {
   "cell_type": "code",
   "execution_count": 13,
   "metadata": {},
   "outputs": [
    {
     "data": {
      "text/plain": [
       "'Added'"
      ]
     },
     "execution_count": 13,
     "metadata": {},
     "output_type": "execute_result"
    }
   ],
   "source": [
    "# new for user, already in db\n",
    "operations.add_item_to_database(\n",
    "    'https://www.perekrestok.ru/cat/371/p/syr-magkij-arla-natura-slivocnyj-naturalnyj-60-150g-3980863',\n",
    "'abo4')"
   ]
  },
  {
   "cell_type": "code",
   "execution_count": 14,
   "metadata": {},
   "outputs": [
    {
     "data": {
      "text/plain": [
       "'Already_exist'"
      ]
     },
     "execution_count": 14,
     "metadata": {},
     "output_type": "execute_result"
    }
   ],
   "source": [
    "# already is in user list\n",
    "operations.add_item_to_database(\n",
    "    'https://www.perekrestok.ru/cat/371/p/syr-magkij-arla-natura-slivocnyj-naturalnyj-60-150g-3980863',\n",
    "'abo')"
   ]
  },
  {
   "cell_type": "code",
   "execution_count": 15,
   "metadata": {},
   "outputs": [
    {
     "data": {
      "text/plain": [
       "'Parsing_error'"
      ]
     },
     "execution_count": 15,
     "metadata": {},
     "output_type": "execute_result"
    }
   ],
   "source": [
    "# wrong address\n",
    "operations.add_item_to_database(\n",
    "    'https://www.perekrestok.ru/cat/371/p/syr-magkij-arla-natura-s0863',\n",
    "'abo')"
   ]
  },
  {
   "cell_type": "markdown",
   "metadata": {},
   "source": [
    "## Additional features"
   ]
  },
  {
   "cell_type": "markdown",
   "metadata": {},
   "source": [
    "### Demo dataset"
   ]
  },
  {
   "cell_type": "code",
   "execution_count": 2,
   "metadata": {},
   "outputs": [
    {
     "data": {
      "text/plain": [
       "[]"
      ]
     },
     "execution_count": 2,
     "metadata": {},
     "output_type": "execute_result"
    }
   ],
   "source": [
    "operations.get_list_of_items_on_watch('demo')"
   ]
  },
  {
   "cell_type": "code",
   "execution_count": 3,
   "metadata": {
    "scrolled": true
   },
   "outputs": [
    {
     "data": {
      "text/plain": [
       "True"
      ]
     },
     "execution_count": 3,
     "metadata": {},
     "output_type": "execute_result"
    }
   ],
   "source": [
    "operations.add_demo_for_user('demo')"
   ]
  },
  {
   "cell_type": "code",
   "execution_count": 4,
   "metadata": {},
   "outputs": [
    {
     "data": {
      "text/plain": [
       "[{'id': 6, 'name': 'Сыр Ламбер Традиционный 50%, 230г'},\n",
       " {'id': 22, 'name': 'Творог Пискаревский 5%, 250г'},\n",
       " {'id': 30, 'name': 'Йогурт фруктовый Чудо Вишня-Черешня 2.5%, 290г'},\n",
       " {'id': 51, 'name': 'Томаты черри красные Шейкер, 250г'},\n",
       " {'id': 70,\n",
       "  'name': 'Шоколад тёмный Ritter Sport с цельным лесным орехом, 100г'},\n",
       " {'id': 84, 'name': 'Крендели Saltletts Классические с солью, 150г'}]"
      ]
     },
     "execution_count": 4,
     "metadata": {},
     "output_type": "execute_result"
    }
   ],
   "source": [
    "operations.get_list_of_items_on_watch('demo')"
   ]
  },
  {
   "cell_type": "code",
   "execution_count": 22,
   "metadata": {},
   "outputs": [],
   "source": []
  },
  {
   "cell_type": "code",
   "execution_count": 12,
   "metadata": {},
   "outputs": [
    {
     "data": {
      "text/html": [
       "<div>\n",
       "<style scoped>\n",
       "    .dataframe tbody tr th:only-of-type {\n",
       "        vertical-align: middle;\n",
       "    }\n",
       "\n",
       "    .dataframe tbody tr th {\n",
       "        vertical-align: top;\n",
       "    }\n",
       "\n",
       "    .dataframe thead th {\n",
       "        text-align: right;\n",
       "    }\n",
       "</style>\n",
       "<table border=\"1\" class=\"dataframe\">\n",
       "  <thead>\n",
       "    <tr style=\"text-align: right;\">\n",
       "      <th></th>\n",
       "      <th>id</th>\n",
       "      <th>price_mean</th>\n",
       "      <th>datetime</th>\n",
       "      <th>price_last</th>\n",
       "      <th>abs_profit</th>\n",
       "      <th>relt_profit</th>\n",
       "    </tr>\n",
       "  </thead>\n",
       "  <tbody>\n",
       "    <tr>\n",
       "      <th>0</th>\n",
       "      <td>1</td>\n",
       "      <td>131.19</td>\n",
       "      <td>2022-11-06 21:01:54</td>\n",
       "      <td>95.99</td>\n",
       "      <td>35.20</td>\n",
       "      <td>0.27</td>\n",
       "    </tr>\n",
       "    <tr>\n",
       "      <th>1</th>\n",
       "      <td>2</td>\n",
       "      <td>138.99</td>\n",
       "      <td>2022-11-06 21:01:59</td>\n",
       "      <td>104.99</td>\n",
       "      <td>34.00</td>\n",
       "      <td>0.24</td>\n",
       "    </tr>\n",
       "    <tr>\n",
       "      <th>2</th>\n",
       "      <td>3</td>\n",
       "      <td>177.99</td>\n",
       "      <td>2022-11-06 21:02:26</td>\n",
       "      <td>219.99</td>\n",
       "      <td>-42.00</td>\n",
       "      <td>-0.24</td>\n",
       "    </tr>\n",
       "    <tr>\n",
       "      <th>3</th>\n",
       "      <td>4</td>\n",
       "      <td>449.99</td>\n",
       "      <td>2022-11-06 21:01:13</td>\n",
       "      <td>449.99</td>\n",
       "      <td>0.00</td>\n",
       "      <td>0.00</td>\n",
       "    </tr>\n",
       "    <tr>\n",
       "      <th>4</th>\n",
       "      <td>5</td>\n",
       "      <td>439.99</td>\n",
       "      <td>2022-11-06 21:01:15</td>\n",
       "      <td>439.99</td>\n",
       "      <td>0.00</td>\n",
       "      <td>0.00</td>\n",
       "    </tr>\n",
       "    <tr>\n",
       "      <th>...</th>\n",
       "      <td>...</td>\n",
       "      <td>...</td>\n",
       "      <td>...</td>\n",
       "      <td>...</td>\n",
       "      <td>...</td>\n",
       "      <td>...</td>\n",
       "    </tr>\n",
       "    <tr>\n",
       "      <th>148</th>\n",
       "      <td>149</td>\n",
       "      <td>89.99</td>\n",
       "      <td>2022-11-06 21:16:13</td>\n",
       "      <td>89.99</td>\n",
       "      <td>0.00</td>\n",
       "      <td>0.00</td>\n",
       "    </tr>\n",
       "    <tr>\n",
       "      <th>149</th>\n",
       "      <td>150</td>\n",
       "      <td>179.95</td>\n",
       "      <td>2022-11-06 21:15:55</td>\n",
       "      <td>189.90</td>\n",
       "      <td>-9.95</td>\n",
       "      <td>-0.06</td>\n",
       "    </tr>\n",
       "    <tr>\n",
       "      <th>150</th>\n",
       "      <td>151</td>\n",
       "      <td>99.97</td>\n",
       "      <td>2022-11-06 21:16:24</td>\n",
       "      <td>99.99</td>\n",
       "      <td>-0.02</td>\n",
       "      <td>0.00</td>\n",
       "    </tr>\n",
       "    <tr>\n",
       "      <th>151</th>\n",
       "      <td>152</td>\n",
       "      <td>99.99</td>\n",
       "      <td>2022-11-06 21:16:04</td>\n",
       "      <td>99.99</td>\n",
       "      <td>0.00</td>\n",
       "      <td>0.00</td>\n",
       "    </tr>\n",
       "    <tr>\n",
       "      <th>152</th>\n",
       "      <td>153</td>\n",
       "      <td>183.99</td>\n",
       "      <td>2022-11-06 21:16:18</td>\n",
       "      <td>199.99</td>\n",
       "      <td>-16.00</td>\n",
       "      <td>-0.09</td>\n",
       "    </tr>\n",
       "  </tbody>\n",
       "</table>\n",
       "<p>153 rows × 6 columns</p>\n",
       "</div>"
      ],
      "text/plain": [
       "      id  price_mean             datetime  price_last  abs_profit  relt_profit\n",
       "0      1      131.19  2022-11-06 21:01:54       95.99       35.20         0.27\n",
       "1      2      138.99  2022-11-06 21:01:59      104.99       34.00         0.24\n",
       "2      3      177.99  2022-11-06 21:02:26      219.99      -42.00        -0.24\n",
       "3      4      449.99  2022-11-06 21:01:13      449.99        0.00         0.00\n",
       "4      5      439.99  2022-11-06 21:01:15      439.99        0.00         0.00\n",
       "..   ...         ...                  ...         ...         ...          ...\n",
       "148  149       89.99  2022-11-06 21:16:13       89.99        0.00         0.00\n",
       "149  150      179.95  2022-11-06 21:15:55      189.90       -9.95        -0.06\n",
       "150  151       99.97  2022-11-06 21:16:24       99.99       -0.02         0.00\n",
       "151  152       99.99  2022-11-06 21:16:04       99.99        0.00         0.00\n",
       "152  153      183.99  2022-11-06 21:16:18      199.99      -16.00        -0.09\n",
       "\n",
       "[153 rows x 6 columns]"
      ]
     },
     "execution_count": 12,
     "metadata": {},
     "output_type": "execute_result"
    }
   ],
   "source": [
    "import pandas as pd\n",
    "import sqlite3\n",
    "from config import DB_ADDRESS_WATCHDOG\n",
    "\n",
    "con = sqlite3.connect(DB_ADDRESS_WATCHDOG)\n",
    "stats = pd.read_sql_query('SELECT * FROM stats', con)\n",
    "con.close()\n",
    "stats"
   ]
  }
 ],
 "metadata": {
  "kernelspec": {
   "display_name": "Python 3",
   "language": "python",
   "name": "python3"
  },
  "language_info": {
   "codemirror_mode": {
    "name": "ipython",
    "version": 3
   },
   "file_extension": ".py",
   "mimetype": "text/x-python",
   "name": "python",
   "nbconvert_exporter": "python",
   "pygments_lexer": "ipython3",
   "version": "3.7.3"
  }
 },
 "nbformat": 4,
 "nbformat_minor": 4
}
