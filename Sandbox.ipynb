{
 "cells": [
  {
   "cell_type": "code",
   "execution_count": 1,
   "metadata": {},
   "outputs": [],
   "source": [
    "import sqlite3\n",
    "import requests\n",
    "import re\n",
    "import time\n",
    "import random\n",
    "import logging\n",
    "from datetime import datetime\n",
    "from watchdog import perekrestok_finder\n",
    "\n",
    "\n",
    "logging.basicConfig(filename='operations.log', format='%(asctime)s %(levelname)s:%(message)s', level=logging.DEBUG)\n",
    "db_address = '/home/alexey/Experiments/Fisherman_Bot/fisherman/fisherman_dev.db'"
   ]
  },
  {
   "cell_type": "markdown",
   "metadata": {},
   "source": [
    "* add item\n",
    "* get list of id:names\n",
    "* remove items by id"
   ]
  },
  {
   "cell_type": "markdown",
   "metadata": {},
   "source": [
    "### Add item"
   ]
  },
  {
   "cell_type": "code",
   "execution_count": 2,
   "metadata": {},
   "outputs": [],
   "source": [
    "def add_item_to_database(url, user):\n",
    "    \"\"\"\n",
    "    Add new item to watchlist. If not, add new entry to info table and username to users\n",
    "    \"\"\"\n",
    "    \n",
    "    # get info about item\n",
    "    try:\n",
    "        res = perekrestok_finder(url.strip())\n",
    "        data = {\n",
    "            'name': res[0],\n",
    "            'url': url,\n",
    "            'user': user\n",
    "        }\n",
    "    except Exception as err:\n",
    "        logging.error(\"Database write new entry: can't obtain data for %s, %s\", url, err)\n",
    "        return f\"There is an error during parsing {url}. Check it again or report to admins\"\n",
    "    \n",
    "\n",
    "    # read data from DB\n",
    "    con = sqlite3.connect(db_address)\n",
    "    cur = con.cursor()\n",
    "    logging.debug(\"Database write new entry: open connection\")\n",
    "    \n",
    "    # check this url already in the database\n",
    "    cur.execute('''SELECT id, url FROM info WHERE url = :url''', data)\n",
    "    if not cur.fetchall():\n",
    "        print(\"new entry\")\n",
    "        cur.execute('''INSERT INTO info (url, name) VALUES (:url, :name)''', data)\n",
    "        logging.info(f\"Database write new entry: {data['name']} was added to the database\")\n",
    "    cur.execute('''SELECT id FROM info WHERE url = :url''', data)\n",
    "    data['ID'] = cur.fetchone()[0]\n",
    "    \n",
    "    # check, is this user already in the database\n",
    "    cur.execute('''SELECT id, user FROM users WHERE user = :user AND id = :ID''', data)\n",
    "    if not cur.fetchall():\n",
    "        cur.execute('''INSERT INTO users (id, user) VALUES (:ID, :user)''', data)\n",
    "        logging.info(f\"Database write new entry: id {data['ID']} was added for {data['user']}\")\n",
    "        answer = \"Item was added to you tracklist\"\n",
    "    else:\n",
    "        answer = \"Item is already in your watchlist\"\n",
    "    \n",
    "    # write entries to DB\n",
    "    con.commit()\n",
    "    con.close()\n",
    "    logging.debug(\"Database write new entry: close connection\")\n",
    "    \n",
    "    return answer"
   ]
  },
  {
   "cell_type": "markdown",
   "metadata": {},
   "source": [
    "* add non-existed item\n",
    "* add existed item as new user\n",
    "* add existed item as existed user\n",
    "* add wrong item"
   ]
  },
  {
   "cell_type": "code",
   "execution_count": 4,
   "metadata": {
    "scrolled": true
   },
   "outputs": [
    {
     "name": "stdout",
     "output_type": "stream",
     "text": [
      "new entry\n"
     ]
    },
    {
     "data": {
      "text/plain": [
       "'Item was added to you tracklist'"
      ]
     },
     "execution_count": 4,
     "metadata": {},
     "output_type": "execute_result"
    }
   ],
   "source": [
    "add_item_to_database('https://www.perekrestok.ru/cat/367/p/arbuz-77410', 'root')"
   ]
  },
  {
   "cell_type": "code",
   "execution_count": 5,
   "metadata": {},
   "outputs": [
    {
     "data": {
      "text/plain": [
       "'Item was added to you tracklist'"
      ]
     },
     "execution_count": 5,
     "metadata": {},
     "output_type": "execute_result"
    }
   ],
   "source": [
    "add_item_to_database('https://www.perekrestok.ru/cat/367/p/arbuz-77410', 'abo')"
   ]
  },
  {
   "cell_type": "code",
   "execution_count": 6,
   "metadata": {},
   "outputs": [
    {
     "data": {
      "text/plain": [
       "'Item is already in your watchlist'"
      ]
     },
     "execution_count": 6,
     "metadata": {},
     "output_type": "execute_result"
    }
   ],
   "source": [
    "add_item_to_database('https://www.perekrestok.ru/cat/367/p/arbuz-77410', 'abo')"
   ]
  },
  {
   "cell_type": "code",
   "execution_count": 7,
   "metadata": {
    "scrolled": true
   },
   "outputs": [
    {
     "data": {
      "text/plain": [
       "'There is an error during parsing https://www.perekrestok.ru/cat/367/p/arz-77892. Check it again or report to admins'"
      ]
     },
     "execution_count": 7,
     "metadata": {},
     "output_type": "execute_result"
    }
   ],
   "source": [
    "add_item_to_database('https://www.perekrestok.ru/cat/367/p/arz-77892', 'abo')"
   ]
  },
  {
   "cell_type": "markdown",
   "metadata": {},
   "source": [
    "---"
   ]
  },
  {
   "cell_type": "markdown",
   "metadata": {},
   "source": [
    "### Get list of id:names"
   ]
  },
  {
   "cell_type": "code",
   "execution_count": 28,
   "metadata": {},
   "outputs": [],
   "source": [
    "def get_list_of_items_on_watch(user):\n",
    "    '''\n",
    "    \n",
    "    '''\n",
    "    \n",
    "    # read data from DB\n",
    "    con = sqlite3.connect(db_address)\n",
    "    cur = con.cursor()\n",
    "    logging.debug(\"Database fetch data: open connection\")\n",
    "    \n",
    "    # select id and names for current user\n",
    "    cur.execute('''SELECT id, name FROM info WHERE id IN (SELECT id FROM users WHERE user = ?)''', [user])\n",
    "    data = cur.fetchall()\n",
    "    \n",
    "    # close DB\n",
    "    con.close()\n",
    "    logging.debug(\"Database fetch data: close connection\")\n",
    "    \n",
    "    if data:\n",
    "        return data\n",
    "    else:\n",
    "        return \"You do not have a list of items\""
   ]
  },
  {
   "cell_type": "markdown",
   "metadata": {},
   "source": [
    "* known user\n",
    "* unknown user"
   ]
  },
  {
   "cell_type": "code",
   "execution_count": 24,
   "metadata": {
    "scrolled": true
   },
   "outputs": [
    {
     "name": "stdout",
     "output_type": "stream",
     "text": [
      "(154, 'Арбуз')\n"
     ]
    }
   ],
   "source": [
    "get_list_of_items_on_watch('abo')"
   ]
  },
  {
   "cell_type": "code",
   "execution_count": 30,
   "metadata": {
    "scrolled": true
   },
   "outputs": [
    {
     "data": {
      "text/plain": [
       "'You do not have a list of items'"
      ]
     },
     "execution_count": 30,
     "metadata": {},
     "output_type": "execute_result"
    }
   ],
   "source": [
    "get_list_of_items_on_watch('root3')"
   ]
  },
  {
   "cell_type": "markdown",
   "metadata": {},
   "source": [
    "---"
   ]
  },
  {
   "cell_type": "markdown",
   "metadata": {},
   "source": [
    "### Remove item by ID"
   ]
  },
  {
   "cell_type": "code",
   "execution_count": 31,
   "metadata": {},
   "outputs": [],
   "source": [
    "def remove_item_from_watch(ID, user):\n",
    "    '''\n",
    "    \n",
    "    '''\n",
    "    data = {\n",
    "        \"ID\": ID,\n",
    "        \"user\": user\n",
    "    }\n",
    "    \n",
    "    \n",
    "    # read data from DB\n",
    "    con = sqlite3.connect(db_address)\n",
    "    cur = con.cursor()\n",
    "    logging.debug(\"Database remove data: open connection\")\n",
    "    \n",
    "    # is this id in user watch list?\n",
    "    cur.execute('''SELECT id, user FROM users WHERE id = :ID AND user = :user''', data)\n",
    "    if not cur.fetchone():\n",
    "        answer = f\"You do not have this id in watchlist: {ID}\"\n",
    "    else:\n",
    "        cur.execute('''DELETE FROM users WHERE id = :ID AND user = :user''', data)\n",
    "        logging.info(f\"Database remove data: removed id {ID} for user {user}\")\n",
    "    \n",
    "        # is this id an orphan now?\n",
    "        cur.execute('''SELECT id, user FROM users WHERE id = :ID''', data)\n",
    "        if not cur.fetchone():\n",
    "            cur.execute('''DELETE FROM info WHERE id = :ID''', data)\n",
    "            logging.info(f\"Database remove data: id {ID} COMPLETELY REMOVED for all users\")\n",
    "        answer = f\"The {ID} id is removed from your watchlist\"\n",
    "    \n",
    "    # close DB\n",
    "    con.commit()\n",
    "    con.close()\n",
    "    logging.debug(\"Database remove data: close connection\")"
   ]
  },
  {
   "cell_type": "markdown",
   "metadata": {},
   "source": [
    "* remove item for one user\n",
    "* remove item for second user\n",
    "* remove item for non-user"
   ]
  },
  {
   "cell_type": "code",
   "execution_count": null,
   "metadata": {},
   "outputs": [],
   "source": []
  }
 ],
 "metadata": {
  "kernelspec": {
   "display_name": "Python 3",
   "language": "python",
   "name": "python3"
  },
  "language_info": {
   "codemirror_mode": {
    "name": "ipython",
    "version": 3
   },
   "file_extension": ".py",
   "mimetype": "text/x-python",
   "name": "python",
   "nbconvert_exporter": "python",
   "pygments_lexer": "ipython3",
   "version": "3.7.3"
  }
 },
 "nbformat": 4,
 "nbformat_minor": 4
}
